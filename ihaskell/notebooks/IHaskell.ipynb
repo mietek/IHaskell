{
 "metadata": {
  "language": "haskell",
  "name": ""
 },
 "nbformat": 3,
 "nbformat_minor": 0,
 "worksheets": [
  {
   "cells": [
    {
     "cell_type": "markdown",
     "metadata": {
      "hidden": false
     },
     "source": [
      "![](https://raw2.github.com/gibiansky/IHaskell/master/images/ihaskell-logo-small.png)\n",
      "\n",
      "IHaskell Notebook\n",
      "===\n",
      "Hello, and welcome to the **IHaskell Notebook**. IHaskell Notebook is similar to an interactive shell along the lines of GHCi. However, it is much more powerful, and provides features such as syntax highlighting, autocompletion, multi-line input cells, integrated documentation, rich output visualization, and more. In this notebook, I'd like to demonstrate many of the awesome features IHaskell provides.\n",
      "\n",
      "IHaskell is implemented as a language kernel for the [IPython](http://ipython.org) project, which means that although the entire thing is written only in Haskell, we get a beautiful notebook interface practically for free.\n",
      "\n",
      "We can start with very simple Haskell expressions:"
     ]
    },
    {
     "cell_type": "code",
     "collapsed": false,
     "input": [
      "-- First of all, we can evaluate simple expressions.\n",
      "3 + 5\n",
      "\"Hello, \" ++ \"World!\""
     ],
     "language": "python",
     "metadata": {},
     "outputs": [
      {
       "metadata": {},
       "output_type": "display_data",
       "text": [
        "8"
       ]
      },
      {
       "metadata": {},
       "output_type": "display_data",
       "text": [
        "\"Hello, World!\""
       ]
      }
     ],
     "prompt_number": 1
    },
    {
     "cell_type": "markdown",
     "metadata": {
      "hidden": false
     },
     "source": [
      "As you can see, each input cell get an execution number. The first input cell is labeled `In [1]`. Just like in GHCi, the output of the last executed statement or expression is available via the `it` variable - however, in addition, the output of the $n$th cell is available via the `itN` variable. For example, if we wanted to see what the first cell printed, we can go ahead and output that:"
     ]
    },
    {
     "cell_type": "code",
     "collapsed": false,
     "input": [
      "it1"
     ],
     "language": "python",
     "metadata": {},
     "outputs": [
      {
       "metadata": {},
       "output_type": "display_data",
       "text": [
        "\"Hello, World!\""
       ]
      }
     ],
     "prompt_number": 2
    },
    {
     "cell_type": "markdown",
     "metadata": {
      "hidden": false
     },
     "source": [
      "In addition to simple code cells such as the ones you see, you can also have other types of cells. All of this inline text, for instance, is written using Markdown cells, which support the majority of Github markdown syntax. This lets you embed images and formatting and arbitrary HTML interspersed with your Haskell code. In addition, you can export these notebooks into HTML or even as presentations using `reveal.js`. \n",
      "\n",
      "Alright, back to code. Let's do something slightly fancier:"
     ]
    },
    {
     "cell_type": "code",
     "collapsed": false,
     "input": [
      "-- Unlike in GHCi, we can have multi-line expressions.\n",
      "concat [\n",
      "  \"Hello\",\n",
      "  \", \",\n",
      "  \"World!\"\n",
      "  ] :: String"
     ],
     "language": "python",
     "metadata": {},
     "outputs": [
      {
       "metadata": {},
       "output_type": "display_data",
       "text": [
        "\"Hello, World!\""
       ]
      }
     ],
     "prompt_number": 3
    },
    {
     "cell_type": "markdown",
     "metadata": {
      "hidden": false
     },
     "source": [
      "In addition to multi-line expressions, IHaskell supports most things that you could put in a standard Haskell file. For example, we can  have function bindings without the `let` that GHCi requires. (As long as you group type signatures and their corresponding declarations together, you can use pattern matching and put signatures on your top-level declarations!)"
     ]
    },
    {
     "cell_type": "code",
     "collapsed": false,
     "input": [
      "thing :: String -> Int -> Int\n",
      "thing \"no\" _ = 100\n",
      "thing str int = int + length str\n",
      "\n",
      "thing \"no\" 10\n",
      "thing \"ah\" 10"
     ],
     "language": "python",
     "metadata": {},
     "outputs": [
      {
       "metadata": {},
       "output_type": "display_data",
       "text": [
        "100"
       ]
      },
      {
       "metadata": {},
       "output_type": "display_data",
       "text": [
        "12"
       ]
      }
     ],
     "prompt_number": 4
    },
    {
     "cell_type": "markdown",
     "metadata": {
      "hidden": false
     },
     "source": [
      "So far we've just looked at pure functions, but nothing is stopping us from doing IO."
     ]
    },
    {
     "cell_type": "code",
     "collapsed": false,
     "input": [
      "print \"What's going on?\""
     ],
     "language": "python",
     "metadata": {},
     "outputs": [
      {
       "metadata": {},
       "output_type": "display_data",
       "text": [
        "\"What's going on?\""
       ]
      }
     ],
     "prompt_number": 5
    },
    {
     "cell_type": "markdown",
     "metadata": {
      "hidden": false
     },
     "source": [
      "IHaskell supports most GHC extensions via the `:extension` directive (or any shorthand thereof)."
     ]
    },
    {
     "cell_type": "code",
     "collapsed": false,
     "input": [
      "-- We can disable extensions.\n",
      ":ext NoEmptyDataDecls\n",
      "data Thing"
     ],
     "language": "python",
     "metadata": {},
     "outputs": [
      {
       "html": [
        "<span class='err-msg'>\u2018interactive:Ghci148.Thing\u2019 has no constructors (EmptyDataDecls permits this)<br/>In the data declaration for \u2018interactive:Ghci148.Thing\u2019</span>"
       ],
       "metadata": {},
       "output_type": "display_data",
       "text": [
        "\u2018interactive:Ghci148.Thing\u2019 has no constructors (EmptyDataDecls permits this)\n",
        "In the data declaration for \u2018interactive:Ghci148.Thing\u2019"
       ]
      }
     ],
     "prompt_number": 6
    },
    {
     "cell_type": "code",
     "collapsed": false,
     "input": [
      "-- And enable extensions.\n",
      ":ext EmptyDataDecls\n",
      "data Thing"
     ],
     "language": "python",
     "metadata": {},
     "outputs": [],
     "prompt_number": 7
    },
    {
     "cell_type": "markdown",
     "metadata": {
      "hidden": false
     },
     "source": [
      "Data declarations do pretty much what you expect, and work fine on multiple lines. If a declaration turns out to be not quite what you wanted, you can just go back, edit it, and re-evaluate the code cell."
     ]
    },
    {
     "cell_type": "code",
     "collapsed": false,
     "input": [
      "-- Various data declarations work fine.\n",
      "data One\n",
      "     = A String\n",
      "     | B Int\n",
      "     deriving Show\n",
      "\n",
      "print [A \"Hello\", B 10]"
     ],
     "language": "python",
     "metadata": {},
     "outputs": [
      {
       "metadata": {},
       "output_type": "display_data",
       "text": [
        "[A \"Hello\",B 10]"
       ]
      }
     ],
     "prompt_number": 8
    },
    {
     "cell_type": "markdown",
     "metadata": {
      "hidden": false
     },
     "source": [
      "Although this doesn't hold everywhere, we've tried to keep IHaskell relatively similar to GHCi in terms of naming. So, just like in GHCi, you can inspect types with `:type` (or shorthands):"
     ]
    },
    {
     "cell_type": "code",
     "collapsed": false,
     "input": [
      "-- We can look at types like in GHCi.\n",
      ":ty 3 + 3"
     ],
     "language": "python",
     "metadata": {},
     "outputs": [
      {
       "html": [
        "<span class='get-type'>3 + 3 :: forall a. Num a => a</span>"
       ],
       "metadata": {},
       "output_type": "display_data",
       "text": [
        "3 + 3 :: forall a. Num a => a"
       ]
      }
     ],
     "prompt_number": 9
    },
    {
     "cell_type": "markdown",
     "metadata": {
      "hidden": false
     },
     "source": [
      "The same goes for the `:info` command. However, unlike GHCi, which simply prints info, the IHaskell notebook brings up a separate pane."
     ]
    },
    {
     "cell_type": "code",
     "collapsed": false,
     "input": [
      "-- What is the Integral typeclass?\n",
      ":info Integral"
     ],
     "language": "python",
     "metadata": {},
     "outputs": [
      {
       "metadata": {},
       "output_type": "display_data"
      }
     ],
     "prompt_number": 10
    },
    {
     "cell_type": "markdown",
     "metadata": {
      "hidden": false
     },
     "source": [
      "If you're looking at this notebook after it's been exported to HTML, you won't be able to see this interactive pane. However, it looks approximately like this:\n",
      "\n",
      "![](https://raw2.github.com/gibiansky/IHaskell/master/demo/info-demo.png)"
     ]
    },
    {
     "cell_type": "markdown",
     "metadata": {
      "hidden": false
     },
     "source": [
      "We can now write slightly more complicated scripts."
     ]
    },
    {
     "cell_type": "code",
     "collapsed": false,
     "input": [
      "-- Results are printed as we go, even from a single expression.\n",
      "import Control.Monad\n",
      "import Control.Concurrent\n",
      "\n",
      "forM_ [1..5] $ \\x -> do\n",
      "  print x\n",
      "  threadDelay $ 200 * 1000"
     ],
     "language": "python",
     "metadata": {},
     "outputs": [
      {
       "metadata": {},
       "output_type": "display_data",
       "text": [
        "1\n",
        "2\n",
        "3\n",
        "4\n",
        "5"
       ]
      }
     ],
     "prompt_number": 1
    },
    {
     "cell_type": "markdown",
     "metadata": {
      "hidden": false
     },
     "source": [
      "This is where the similarities with GHCi end, and the particularly shiny features of IHaskell begin.\n",
      "\n",
      "Although looking at text outputs is often enough, there are many times where we really want a richer output. Suppose we have a custom data type for color:"
     ]
    },
    {
     "cell_type": "code",
     "collapsed": false,
     "input": [
      "data Color = Red | Green | Blue"
     ],
     "language": "python",
     "metadata": {},
     "outputs": [],
     "prompt_number": 12
    },
    {
     "cell_type": "markdown",
     "metadata": {
      "hidden": false
     },
     "source": [
      "If we were playing around with designing GUI applications, for instance, we might want to actually *see* these colors, instead of just seeing the text \"Red\", \"Green\", and \"Blue\" when we are debugging.\n",
      "\n",
      "IHaskell lets you define a custom display mechanism for any data type via its `IHaskellDisplay` typeclass. Since you can  use IHaskell in console mode as well as notebook mode, you can provide a list of display outputs for any data type, and the frontend will simply choose the best one. Here's how you would implement a very simple display mechanism for this `Color` data type:"
     ]
    },
    {
     "cell_type": "code",
     "collapsed": false,
     "input": [
      "import IHaskell.Display\n",
      "\n",
      "instance IHaskellDisplay Color where\n",
      "  display color = return $ Display [html code]\n",
      "    where\n",
      "      code = concat [\"<div style='font-weight: bold; color:\"\n",
      "                    , css color\n",
      "                    , \"'>Look!</div>\"]\n",
      "      css Red   = \"red\"\n",
      "      css Blue  = \"blue\"\n",
      "      css Green = \"green\""
     ],
     "language": "python",
     "metadata": {},
     "outputs": [],
     "prompt_number": 13
    },
    {
     "cell_type": "markdown",
     "metadata": {
      "hidden": false
     },
     "source": [
      "Once we define a custom `display :: a -> IO Display` function, we can simply output a `Color`:"
     ]
    },
    {
     "cell_type": "code",
     "collapsed": false,
     "input": [
      "Red\n",
      "Green\n",
      "Blue"
     ],
     "language": "python",
     "metadata": {},
     "outputs": [
      {
       "html": [
        "<div style='font-weight: bold; color:red'>Look!</div>"
       ],
       "metadata": {},
       "output_type": "display_data"
      },
      {
       "html": [
        "<div style='font-weight: bold; color:green'>Look!</div>"
       ],
       "metadata": {},
       "output_type": "display_data"
      },
      {
       "html": [
        "<div style='font-weight: bold; color:blue'>Look!</div>"
       ],
       "metadata": {},
       "output_type": "display_data"
      }
     ],
     "prompt_number": 14
    },
    {
     "cell_type": "markdown",
     "metadata": {
      "hidden": false
     },
     "source": [
      "The `DisplayData` type has several constructors which let you display your data as plain text, HTML, images (SVG, PNG, JPG), or even as LaTeX code.\n",
      "\n",
      "In order to ship an extension for IHaskell, simply create a package named `ihaskell-thing` with a module named `IHaskell.Display.Thing`. As long as `ihaskell-thing` is installed, IHaskell will detect and use it automatically.\n",
      "\n",
      "A number of packages already exist, which we can briefly look at. First, in `ihaskell-basic`, we have very simple displays for data types from `Prelude`."
     ]
    },
    {
     "cell_type": "code",
     "collapsed": false,
     "input": [
      "-- We can display Maybes fancily for Show-able types.\n",
      "Just ()\n",
      "Nothing\n",
      "\n",
      "-- But it dies if it's not showable.\n",
      "data NoShow = X Int\n",
      "Just (X 3)"
     ],
     "language": "python",
     "metadata": {},
     "outputs": [
      {
       "html": [
        "<span style='color: green; font-weight: bold;'>Just</span><span style='font-family: monospace;'>()</span>"
       ],
       "metadata": {},
       "output_type": "display_data",
       "text": [
        "Just ()"
       ]
      },
      {
       "html": [
        "<span style='color: red; font-weight: bold;'>Nothing</span>"
       ],
       "metadata": {},
       "output_type": "display_data",
       "text": [
        "Nothing"
       ]
      },
      {
       "html": [
        "<span class='err-msg'>No instance for (Show NoShow) arising from a use of \u2018print\u2019<br/>In a stmt of an interactive GHCi command: print it</span>"
       ],
       "metadata": {},
       "output_type": "display_data",
       "text": [
        "No instance for (Show NoShow) arising from a use of \u2018print\u2019\n",
        "In a stmt of an interactive GHCi command: print it"
       ]
      }
     ],
     "prompt_number": 15
    },
    {
     "cell_type": "markdown",
     "metadata": {
      "hidden": false
     },
     "source": [
      "The `ihaskell-aeson` package adds a display for [Aeson](http://hackage.haskell.org/package/aeson) JSON `Value` types. These are automatically syntax highlighted and formatted nicely."
     ]
    },
    {
     "cell_type": "code",
     "collapsed": false,
     "input": [
      "-- Aeson JSON data types are displayed nicely.\n",
      ":ext OverloadedStrings\n",
      "\n",
      "import Data.Aeson\n",
      "\n",
      "data Coord  = Coord { x :: Double, y :: Double }\n",
      "instance ToJSON Coord where\n",
      "   toJSON (Coord x y) = object [\"x\" .= x, \"y\" .= y]\n",
      "\n",
      "Null\n",
      "Bool True\n",
      "toJSON (Coord 3 2)"
     ],
     "language": "python",
     "metadata": {},
     "outputs": [
      {
       "html": [
        "<div class=\"highlight-code\" id=\"javascript\">null</div>"
       ],
       "metadata": {},
       "output_type": "display_data",
       "text": [
        "null"
       ]
      },
      {
       "html": [
        "<div class=\"highlight-code\" id=\"javascript\">true</div>"
       ],
       "metadata": {},
       "output_type": "display_data",
       "text": [
        "true"
       ]
      },
      {
       "html": [
        "<div class=\"highlight-code\" id=\"javascript\">{\n",
        "    \"x\": 3,\n",
        "    \"y\": 2\n",
        "}</div>"
       ],
       "metadata": {},
       "output_type": "display_data",
       "text": [
        "{\n",
        "    \"x\": 3,\n",
        "    \"y\": 2\n",
        "}"
       ]
      }
     ],
     "prompt_number": 2
    },
    {
     "cell_type": "markdown",
     "metadata": {
      "hidden": false
     },
     "source": [
      "This syntax highlighting may not show up in the exported HTML, as it is done on the fly with Javascript. The result looks like this in the notebook:\n",
      "\n",
      "![](https://raw2.github.com/gibiansky/IHaskell/master/demo/json-demo.png)"
     ]
    },
    {
     "cell_type": "markdown",
     "metadata": {
      "hidden": false
     },
     "source": [
      "The `ihaskell-blaze` package lets you play around with HTML straight from within IHaskell using the [Blaze](http://jaspervdj.be/blaze/tutorial.html) library."
     ]
    },
    {
     "cell_type": "code",
     "collapsed": false,
     "input": [
      "-- Small bits of HTML generated via Blaze are displayed.\n",
      "\n",
      "import Prelude hiding (div, id)\n",
      "import Text.Blaze.Html4.Strict hiding (map, style)\n",
      "import Text.Blaze.Html4.Strict.Attributes\n",
      "\n",
      "div ! style \"color: red\" $ do\n",
      "    p \"This is an example of BlazeMarkup syntax.\"\n",
      "    b \"Hello\"\n",
      "    \n",
      "forM [1..5] $ \\size -> do\n",
      "  let s = toValue $ size * 70\n",
      "  img ! src \"https://www.google.com/images/srpr/logo11w.png\" ! width s"
     ],
     "language": "python",
     "metadata": {},
     "outputs": [
      {
       "html": [
        "<div style=\"color: red\">\n",
        "    <p>\n",
        "        This is an example of BlazeMarkup syntax.\n",
        "    </p>\n",
        "    <b>\n",
        "        Hello\n",
        "    </b>\n",
        "</div>\n"
       ],
       "metadata": {},
       "output_type": "display_data",
       "text": [
        "<div style=\"color: red\">\n",
        "    <p>\n",
        "        This is an example of BlazeMarkup syntax.\n",
        "    </p>\n",
        "    <b>\n",
        "        Hello\n",
        "    </b>\n",
        "</div>"
       ]
      },
      {
       "html": [
        "<img src=\"https://www.google.com/images/srpr/logo11w.png\" width=\"70\">\n",
        "<img src=\"https://www.google.com/images/srpr/logo11w.png\" width=\"140\">\n",
        "<img src=\"https://www.google.com/images/srpr/logo11w.png\" width=\"210\">\n",
        "<img src=\"https://www.google.com/images/srpr/logo11w.png\" width=\"280\">\n",
        "<img src=\"https://www.google.com/images/srpr/logo11w.png\" width=\"350\">\n"
       ],
       "metadata": {},
       "output_type": "display_data",
       "text": [
        "<img src=\"https://www.google.com/images/srpr/logo11w.png\" width=\"70\">\n",
        "<img src=\"https://www.google.com/images/srpr/logo11w.png\" width=\"140\">\n",
        "<img src=\"https://www.google.com/images/srpr/logo11w.png\" width=\"210\">\n",
        "<img src=\"https://www.google.com/images/srpr/logo11w.png\" width=\"280\">\n",
        "<img src=\"https://www.google.com/images/srpr/logo11w.png\" width=\"350\">"
       ]
      }
     ],
     "prompt_number": 3
    },
    {
     "cell_type": "markdown",
     "metadata": {
      "hidden": false
     },
     "source": [
      "The `ihaskell-diagrams` package allows you to experiment with the [diagrams](http://projects.haskell.org/diagrams/) package. It requires the Cairo backend."
     ]
    },
    {
     "cell_type": "code",
     "collapsed": false,
     "input": [
      "-- We can draw diagrams, right in the notebook.\n",
      ":extension NoMonomorphismRestriction\n",
      "import Diagrams.Prelude\n",
      "\n",
      "-- By Brent Yorgey\n",
      "-- Draw a Sierpinski triangle!\n",
      "sierpinski 1 = eqTriangle 1\n",
      "sierpinski n =     s\n",
      "                  ===\n",
      "               (s ||| s) # centerX\n",
      "  where s = sierpinski (n-1)\n",
      "\n",
      "-- The `diagram` function is used to display them in the notebook.\n",
      "diagram $ sierpinski 4\n",
      "            # centerXY\n",
      "            # fc black\n",
      "          `atop` square 10\n",
      "                   # fc white"
     ],
     "language": "python",
     "metadata": {},
     "outputs": [
      {
       "html": [
        "<span class='err-msg'>Not in scope: \u2018diagram\u2019<br/>Perhaps you meant \u2018dimgray\u2019 (imported from Diagrams.Prelude)</span>"
       ],
       "metadata": {},
       "output_type": "display_data",
       "text": [
        "Not in scope: \u2018diagram\u2019\n",
        "Perhaps you meant \u2018dimgray\u2019 (imported from Diagrams.Prelude)"
       ]
      }
     ],
     "prompt_number": 4
    },
    {
     "cell_type": "markdown",
     "metadata": {
      "hidden": false
     },
     "source": [
      "Just like with Diagrams, `ihaskell-charts` allows you to use the [Chart](https://github.com/timbod7/haskell-chart/wiki) library for plotting from within IHaskell. (You will need to install `cairo` as well, which may be a bit of a hassle.)"
     ]
    },
    {
     "cell_type": "code",
     "collapsed": false,
     "input": [
      "-- We can draw small charts in the notebook.\n",
      "-- This example is taken from the haskell-chart documentation.\n",
      "import Graphics.Rendering.Chart \n",
      "import Data.Default.Class\n",
      "import Control.Lens\n",
      "\n",
      "let values = [\n",
      "     (\"Mexico City\"  , 19.2, 0),\n",
      "     (\"Mumbai\"       , 12.9, 10), \n",
      "     (\"Sydney\"       , 4.3,  0),\n",
      "     (\"London\"       , 8.3,  0), \n",
      "     (\"New York\"     , 8.2,  25)]\n",
      "     \n",
      "pitem (s, v, o) = pitem_value .~ v\n",
      "                $ pitem_label .~ s\n",
      "                $ pitem_offset .~ o\n",
      "                $ def  \n",
      "\n",
      "-- Convert to a renderable in order to display it.\n",
      "toRenderable \n",
      "  $ pie_title .~ \"Relative Population\"\n",
      "  $ pie_plot . pie_data .~ map pitem values\n",
      "  $ def"
     ],
     "language": "python",
     "metadata": {},
     "outputs": [
      {
       "html": [
        "<span class='err-msg'>Not in scope: \u2018IHaskellPrelude.return\u2019<br/><br/><br/>Not in scope: \u2018IHaskellPrelude.>>\u2019</span>"
       ],
       "metadata": {},
       "output_type": "display_data",
       "text": [
        "Not in scope: \u2018IHaskellPrelude.return\u2019\n",
        "\n",
        "\n",
        "Not in scope: \u2018IHaskellPrelude.>>\u2019"
       ]
      }
     ],
     "prompt_number": 19
    },
    {
     "cell_type": "markdown",
     "metadata": {
      "hidden": false
     },
     "source": [
      "By default, both `ihaskell-diagrams` and `ihaskell-chart` use SVG displays. However, the notebook does not support interactive resizing for SVG image. However, if you use `:set no-svg`, all SVG outputs will instead be shown as PNG images, and they can be resized easily."
     ]
    },
    {
     "cell_type": "code",
     "collapsed": false,
     "input": [
      ":opt no-svg\n",
      "\n",
      "toRenderable \n",
      "  $ pie_title .~ \"Relative Population\"\n",
      "  $ pie_plot . pie_data .~ map pitem values\n",
      "  $ def"
     ],
     "language": "python",
     "metadata": {},
     "outputs": [
      {
       "html": [
        "<span class='err-msg'>Not in scope: \u2018IHaskellPrelude.return\u2019<br/><br/><br/>Not in scope: \u2018IHaskellPrelude.>>\u2019</span>"
       ],
       "metadata": {},
       "output_type": "display_data",
       "text": [
        "Not in scope: \u2018IHaskellPrelude.return\u2019\n",
        "\n",
        "\n",
        "Not in scope: \u2018IHaskellPrelude.>>\u2019"
       ]
      }
     ],
     "prompt_number": 20
    },
    {
     "cell_type": "markdown",
     "metadata": {
      "hidden": false
     },
     "source": [
      "Finally, the `ihaskell-magic` chart uses the [magic](http://hackage.haskell.org/package/magic) library (bindings to `libmagic`) to create a display mechanism for `ByteString`s. If you try to load an image, for instance, you will see that image immediately in the notebook."
     ]
    },
    {
     "cell_type": "code",
     "collapsed": false,
     "input": [
      "import qualified Data.ByteString as B\n",
      "B.readFile \"code/IHaskell/images/ihaskell-notebook.png\""
     ],
     "language": "python",
     "metadata": {},
     "outputs": [
      {
       "metadata": {},
       "output_type": "display_data",
       "png": "[encoded data removed]"
      }
     ],
     "prompt_number": 21
    },
    {
     "cell_type": "markdown",
     "metadata": {
      "hidden": false
     },
     "source": [
      "In addition to displaying outputs in a rich format, IHaskell has a bunch of useful features.\n",
      "\n",
      "For instance, the popular linting tool `hlint` is integrated and turned on by default. Let's write some ugly code, and see what it tells us:"
     ]
    },
    {
     "cell_type": "code",
     "collapsed": false,
     "input": [
      "-- There is also hlint integration enabled by default.\n",
      "-- If you write sketchy code, it will tell you:\n",
      "f :: Int -> Int\n",
      "f x = x + 1\n",
      "\n",
      "-- Most warnings are orange...\n",
      "f $ 3\n",
      "\n",
      "-- But more severe warnings are red.\n",
      "putStrLn (show 3)\n",
      "do\n",
      "  return 3"
     ],
     "language": "python",
     "metadata": {},
     "outputs": [
      {
       "html": [
        " <div class=\"suggestion-name\" style=\"clear:both;\"> Redundant $</div>  <div class=\"suggestion-row\" style=\"float: left;\"> <div class=\"suggestion-warning\">Found:</div>  <div class=\"highlight-code\" id=\"haskell\">  f $ 3\n",
        "</div> </div>  <div class=\"suggestion-row\" style=\"float: left;\"> <div class=\"suggestion-warning\">Why Not:</div>  <div class=\"highlight-code\" id=\"haskell\">  f 3\n",
        "</div> </div>  <div class=\"suggestion-name\" style=\"clear:both;\"> Use print</div>  <div class=\"suggestion-row\" style=\"float: left;\"> <div class=\"suggestion-error\">Found:</div>  <div class=\"highlight-code\" id=\"haskell\">  putStrLn (show 3)\n",
        "</div> </div>  <div class=\"suggestion-row\" style=\"float: left;\"> <div class=\"suggestion-error\">Why Not:</div>  <div class=\"highlight-code\" id=\"haskell\">  print 3\n",
        "</div> </div>  <div class=\"suggestion-name\" style=\"clear:both;\"> Redundant do</div>  <div class=\"suggestion-row\" style=\"float: left;\"> <div class=\"suggestion-error\">Found:</div>  <div class=\"highlight-code\" id=\"haskell\">  do return 3\n",
        "</div> </div>  <div class=\"suggestion-row\" style=\"float: left;\"> <div class=\"suggestion-error\">Why Not:</div>  <div class=\"highlight-code\" id=\"haskell\">  return 3\n",
        "</div> </div> "
       ],
       "metadata": {},
       "output_type": "display_data",
       "text": [
        "Line 7:  Redundant $\n",
        "Found:\n",
        "  f $ 3\n",
        "\n",
        "Why not:\n",
        "  f 3\n",
        "Line 10:  Use print\n",
        "Found:\n",
        "  putStrLn (show 3)\n",
        "\n",
        "Why not:\n",
        "  print 3\n",
        "Line 11:  Redundant do\n",
        "Found:\n",
        "  do return 3\n",
        "\n",
        "Why not:\n",
        "  return 3"
       ]
      },
      {
       "metadata": {},
       "output_type": "display_data",
       "text": [
        "4"
       ]
      },
      {
       "metadata": {},
       "output_type": "display_data",
       "text": [
        "3"
       ]
      },
      {
       "metadata": {},
       "output_type": "display_data",
       "text": [
        "3"
       ]
      }
     ],
     "prompt_number": 22
    },
    {
     "cell_type": "markdown",
     "metadata": {
      "hidden": false
     },
     "source": [
      "If you're an experienced Haskeller, though, and don't want `hlint` telling you what to do, you can easily turn it off:"
     ]
    },
    {
     "cell_type": "code",
     "collapsed": false,
     "input": [
      "-- If hlint annoys you, though, you can turn it off.\n",
      "-- Note that this only takes effect in the next cell execution.\n",
      ":opt no-lint"
     ],
     "language": "python",
     "metadata": {},
     "outputs": [],
     "prompt_number": 23
    },
    {
     "cell_type": "code",
     "collapsed": false,
     "input": [
      "-- You could similarly use `:opt lint` to turn it back on.\n",
      "f $ 3"
     ],
     "language": "python",
     "metadata": {},
     "outputs": [
      {
       "metadata": {},
       "output_type": "display_data",
       "text": [
        "4"
       ]
      }
     ],
     "prompt_number": 24
    },
    {
     "cell_type": "markdown",
     "metadata": {
      "hidden": false
     },
     "source": [
      "In addition to `hlint` integration, IHaskell also integrates **Hoogle** for documentation searches. IHaskell provides two directives for searching Hoogle. The first of these, `:document` (or shorthands), looks for exact matches."
     ]
    },
    {
     "cell_type": "code",
     "collapsed": false,
     "input": [
      ":doc filterM"
     ],
     "language": "python",
     "metadata": {},
     "outputs": [
      {
       "metadata": {},
       "output_type": "display_data"
      }
     ],
     "prompt_number": 25
    },
    {
     "cell_type": "markdown",
     "metadata": {
      "hidden": false
     },
     "source": [
      "Like with `:info`, the Hoogle directives use the IPython documentation pager to show you their output. You can press Escape to dismiss the pager. If you're reading this in it's HTML form, the output looks like this:\n",
      "\n",
      "![](https://raw2.github.com/gibiansky/IHaskell/master/demo/doc-demo.png)"
     ]
    },
    {
     "cell_type": "markdown",
     "metadata": {
      "hidden": false
     },
     "source": [
      "The other provided command is `:hoogle`. This does a normal Hoogle search, and thus lets you use imperfect matching and searching by type signature."
     ]
    },
    {
     "cell_type": "code",
     "collapsed": false,
     "input": [
      ":hoogle :: [a] -> [(a, b)]"
     ],
     "language": "python",
     "metadata": {},
     "outputs": [
      {
       "metadata": {},
       "output_type": "display_data"
      }
     ],
     "prompt_number": 26
    },
    {
     "cell_type": "markdown",
     "metadata": {
      "hidden": false
     },
     "source": [
      "The pager will show you documentation for things that could have that type signature or a similar one. It automatically formats inline Haskell code and hyperlinks the identifiers to their respective Haddock documentations:\n",
      "\n",
      "![](https://raw2.github.com/gibiansky/IHaskell/master/demo/hoogle-demo.png)"
     ]
    },
    {
     "cell_type": "markdown",
     "metadata": {
      "hidden": false
     },
     "source": [
      "If you need a refresher on all of the options, you can just use `:help`:"
     ]
    },
    {
     "cell_type": "code",
     "collapsed": false,
     "input": [
      ":help"
     ],
     "language": "python",
     "metadata": {},
     "outputs": [
      {
       "metadata": {},
       "output_type": "display_data",
       "text": [
        "The following commands are available:\n",
        "    :extension <Extension>    -  Enable a GHC extension.\n",
        "    :extension No<Extension>  -  Disable a GHC extension.\n",
        "    :type <expression>        -  Print expression type.\n",
        "    :info <name>              -  Print all info for a name.\n",
        "    :hoogle <query>           -  Search for a query on Hoogle.\n",
        "    :doc <ident>              -  Get documentation for an identifier via Hogole.\n",
        "    :set -XFlag -Wall         -  Set an option (like ghci).\n",
        "    :option <opt>             -  Set an option.\n",
        "    :option no-<opt>          -  Unset an option.\n",
        "    :?, :help                 -  Show this help text.\n",
        "\n",
        "Any prefix of the commands will also suffice, e.g. use :ty for :type.\n",
        "\n",
        "Options:\n",
        "  lint          - enable or disable linting.\n",
        "  svg           - use svg output (cannot be resized).\n",
        "  show-types    - show types of all bound names\n",
        "  show-errors   - display Show instance missing errors normally."
       ]
      }
     ],
     "prompt_number": 27
    },
    {
     "cell_type": "markdown",
     "metadata": {
      "hidden": false
     },
     "source": [
      "All of the code you normally put into IHaskell is (like in GHCi) interpreted. However, sometimes you've perfected a function, and now need it to run faster. In that case, you can go ahead and define a module in a single cell. As long as your module has a module header along the lines of `module Name where`, IHaskell will recognize it as a module. It will create the file `A/B.hs`, compile it, and load it. "
     ]
    },
    {
     "cell_type": "code",
     "collapsed": false,
     "input": [
      "-- If your code isn't running fast enough, you can just put it into a module.\n",
      "module A.B where\n",
      "\n",
      "fib 0 = 1\n",
      "fib 1 = 1\n",
      "fib n = fib (n-1) + fib (n-2)"
     ],
     "language": "python",
     "metadata": {},
     "outputs": [],
     "prompt_number": 28
    },
    {
     "cell_type": "markdown",
     "metadata": {
      "hidden": false
     },
     "source": [
      "Note that the module is by default imported unqualified, as though you had typed `import A.B`."
     ]
    },
    {
     "cell_type": "code",
     "collapsed": false,
     "input": [
      "-- The module is automatically imported unqualified.\n",
      "print $ A.B.fib 20\n",
      "print $ fib 20"
     ],
     "language": "python",
     "metadata": {},
     "outputs": [
      {
       "metadata": {},
       "output_type": "display_data",
       "text": [
        "10946"
       ]
      },
      {
       "metadata": {},
       "output_type": "display_data",
       "text": [
        "10946"
       ]
      }
     ],
     "prompt_number": 29
    },
    {
     "cell_type": "markdown",
     "metadata": {
      "hidden": false
     },
     "source": [
      "Note that since a new module is imported, all previous bound identifiers are now unbound. For instance, we no longer have access to the `f` function from before:"
     ]
    },
    {
     "cell_type": "code",
     "collapsed": false,
     "input": [
      "f 3"
     ],
     "language": "python",
     "metadata": {},
     "outputs": [
      {
       "html": [
        "<span class='err-msg'>Not in scope: `f'</span>"
       ],
       "metadata": {},
       "output_type": "display_data",
       "text": [
        "Not in scope: `f'"
       ]
      }
     ],
     "prompt_number": 30
    },
    {
     "cell_type": "markdown",
     "metadata": {
      "hidden": false
     },
     "source": [
      "However, if you re-import this module with another import statement, the original implicit import goes away."
     ]
    },
    {
     "cell_type": "code",
     "collapsed": false,
     "input": [
      "import qualified A.B as Fib\n",
      "\n",
      "Fib.fib 20\n",
      "fib 20"
     ],
     "language": "python",
     "metadata": {},
     "outputs": [
      {
       "metadata": {},
       "output_type": "display_data",
       "text": [
        "10946"
       ]
      },
      {
       "html": [
        "<span class='err-msg'>Not in scope: `fib'<br/>Perhaps you meant `Fib.fib' (imported from A.B)</span>"
       ],
       "metadata": {},
       "output_type": "display_data",
       "text": [
        "Not in scope: `fib'\n",
        "Perhaps you meant `Fib.fib' (imported from A.B)"
       ]
      }
     ],
     "prompt_number": 31
    },
    {
     "cell_type": "markdown",
     "metadata": {
      "hidden": false
     },
     "source": [
      "Thanks!\n",
      "---\n",
      "\n",
      "That's it for now! I hope you've enjoyed this little demo of **IHaskell**! There are still a few features that I haven't covered, such as the `show-types` and `show-errors` options, as well as the relatively intelligent autocompletion mechanism and inline type info popups.\n",
      "\n",
      "I hope you find IHaskell useful, and please report any bugs or features requests [on Github](https://github.com/gibiansky/IHaskell/issues). If you have any comments, want to contribute, or just want to get in touch, don't hesitate to contact me at Andrew dot Gibiansky at Gmail. Contributions are also more than welcome, and I'm happy to help you get started with IHaskell development if you'd like to contribute!\n",
      "\n",
      "I am also often available at `#ihaskell` on IRC at `chat.freenode.net`, so if I'm around, don't hesitate to ask questions.\n",
      "\n",
      "Thank you to [Adam Vogt](https://github.com/aavogt), [Stian H\u00e5klev](http://reganmian.net/), and [@edechter](https://github.com/edechter) for their testing, bug reporting, pull requests, and general patience!"
     ]
    }
   ],
   "metadata": {}
  }
 ]
}